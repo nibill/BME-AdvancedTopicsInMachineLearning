{
  "nbformat": 4,
  "nbformat_minor": 0,
  "metadata": {
    "kernelspec": {
      "display_name": "Python 3",
      "language": "python",
      "name": "python3"
    },
    "language_info": {
      "codemirror_mode": {
        "name": "ipython",
        "version": 3
      },
      "file_extension": ".py",
      "mimetype": "text/x-python",
      "name": "python",
      "nbconvert_exporter": "python",
      "pygments_lexer": "ipython3",
      "version": "3.8.2"
    },
    "colab": {
      "name": "BucheggerThomasAssignment1.ipynb",
      "provenance": [],
      "collapsed_sections": []
    }
  },
  "cells": [
    {
      "cell_type": "markdown",
      "metadata": {
        "id": "EBAU6pNhnnBN"
      },
      "source": [
        "# Name: Thomas Buchegger"
      ]
    },
    {
      "cell_type": "code",
      "metadata": {
        "id": "oGUC0N58nnBW"
      },
      "source": [
        "%matplotlib inline\n",
        "import torch\n",
        "import torchvision\n",
        "import torchvision.transforms as transforms\n",
        "\n",
        "import matplotlib.pyplot as plt\n",
        "import numpy as np\n",
        "\n",
        "from tqdm.notebook import tqdm\n",
        "from IPython.display import clear_output\n",
        "\n",
        "# Define which device to use for computations\n",
        "# If you have gpu, use 'cuda'\n",
        "# device = torch.device('cpu')\n",
        "device = torch.device('cuda' if torch.cuda.is_available() else 'cpu')"
      ],
      "execution_count": 1,
      "outputs": []
    },
    {
      "cell_type": "code",
      "metadata": {
        "colab": {
          "base_uri": "https://localhost:8080/"
        },
        "id": "A36BWaN5pp8V",
        "outputId": "c8619193-4390-4f30-ca90-3e08cdb959e2"
      },
      "source": [
        "from google.colab import drive\n",
        "drive.mount('/content/drive')"
      ],
      "execution_count": 2,
      "outputs": [
        {
          "output_type": "stream",
          "text": [
            "Mounted at /content/drive\n"
          ],
          "name": "stdout"
        }
      ]
    },
    {
      "cell_type": "code",
      "metadata": {
        "id": "iaYwfaO9NPTA"
      },
      "source": [
        "import sys\n",
        "sys.path.insert(0,'/content/drive/MyDrive/Colab Notebooks')"
      ],
      "execution_count": 1,
      "outputs": []
    },
    {
      "cell_type": "markdown",
      "metadata": {
        "id": "g3VHcS8VnnBX"
      },
      "source": [
        "# Assignment 1 ATML 2021"
      ]
    },
    {
      "cell_type": "markdown",
      "metadata": {
        "id": "XGzX1dMNnnBY"
      },
      "source": [
        "## Task 1. Prepare data for training and model selection"
      ]
    },
    {
      "cell_type": "markdown",
      "metadata": {
        "id": "rRM5lNdGnnBY"
      },
      "source": [
        "PyTorch torchvision module provides you with some predesigned datasets. Like the MNIST dataset, that we are going to use (https://pytorch.org/vision/0.8/_modules/torchvision/datasets/mnist.html#MNIST). Let us build a simple MNIST dataset and visualise some samples."
      ]
    },
    {
      "cell_type": "code",
      "metadata": {
        "colab": {
          "base_uri": "https://localhost:8080/"
        },
        "id": "ldtfWZap8MpC",
        "outputId": "2c170b3d-5b36-447d-cbd3-7fa57e5f7183"
      },
      "source": [
        "!wget www.di.ens.fr/~lelarge/MNIST.tar.gz"
      ],
      "execution_count": 4,
      "outputs": [
        {
          "output_type": "stream",
          "text": [
            "--2021-03-21 10:37:21--  http://www.di.ens.fr/~lelarge/MNIST.tar.gz\n",
            "Resolving www.di.ens.fr (www.di.ens.fr)... 129.199.99.14\n",
            "Connecting to www.di.ens.fr (www.di.ens.fr)|129.199.99.14|:80... connected.\n",
            "HTTP request sent, awaiting response... 302 Found\n",
            "Location: https://www.di.ens.fr/~lelarge/MNIST.tar.gz [following]\n",
            "--2021-03-21 10:37:21--  https://www.di.ens.fr/~lelarge/MNIST.tar.gz\n",
            "Connecting to www.di.ens.fr (www.di.ens.fr)|129.199.99.14|:443... connected.\n",
            "HTTP request sent, awaiting response... 200 OK\n",
            "Length: unspecified [application/x-gzip]\n",
            "Saving to: ‘MNIST.tar.gz.2’\n",
            "\n",
            "MNIST.tar.gz.2          [          <=>       ]  33.20M  5.97MB/s    in 16s     \n",
            "\n",
            "2021-03-21 10:37:37 (2.10 MB/s) - ‘MNIST.tar.gz.2’ saved [34813078]\n",
            "\n"
          ],
          "name": "stdout"
        }
      ]
    },
    {
      "cell_type": "code",
      "metadata": {
        "colab": {
          "base_uri": "https://localhost:8080/"
        },
        "id": "5xztPI7e8Oev",
        "outputId": "d5122276-0f51-4ded-b348-0a874acb9c90"
      },
      "source": [
        "!tar -zxvf MNIST.tar.gz"
      ],
      "execution_count": 5,
      "outputs": [
        {
          "output_type": "stream",
          "text": [
            "MNIST/\n",
            "MNIST/raw/\n",
            "MNIST/raw/train-labels-idx1-ubyte\n",
            "MNIST/raw/t10k-labels-idx1-ubyte.gz\n",
            "MNIST/raw/t10k-labels-idx1-ubyte\n",
            "MNIST/raw/t10k-images-idx3-ubyte.gz\n",
            "MNIST/raw/train-images-idx3-ubyte\n",
            "MNIST/raw/train-labels-idx1-ubyte.gz\n",
            "MNIST/raw/t10k-images-idx3-ubyte\n",
            "MNIST/raw/train-images-idx3-ubyte.gz\n",
            "MNIST/processed/\n",
            "MNIST/processed/training.pt\n",
            "MNIST/processed/test.pt\n"
          ],
          "name": "stdout"
        }
      ]
    },
    {
      "cell_type": "code",
      "metadata": {
        "id": "8ww9KYjbnnBY",
        "colab": {
          "base_uri": "https://localhost:8080/"
        },
        "outputId": "5448b242-f66b-4976-9590-7af72c2a6793"
      },
      "source": [
        "\n",
        "\n",
        "from torchvision.datasets import MNIST\n",
        "# Create MNIST dataset\n",
        "root_dir = './'\n",
        "torchvision.datasets.MNIST(root=root_dir,train=True,download=True)\n"
      ],
      "execution_count": 6,
      "outputs": [
        {
          "output_type": "execute_result",
          "data": {
            "text/plain": [
              "Dataset MNIST\n",
              "    Number of datapoints: 60000\n",
              "    Root location: ./\n",
              "    Split: Train"
            ]
          },
          "metadata": {
            "tags": []
          },
          "execution_count": 6
        }
      ]
    },
    {
      "cell_type": "code",
      "metadata": {
        "id": "oBeO8uyQ8nsz"
      },
      "source": [
        "dataset = torchvision.datasets.MNIST(root=root_dir, train=True, download=True)\n"
      ],
      "execution_count": 7,
      "outputs": []
    },
    {
      "cell_type": "code",
      "metadata": {
        "id": "HsscGOs9syMZ",
        "colab": {
          "base_uri": "https://localhost:8080/"
        },
        "outputId": "d876c97f-a268-444d-c536-f77c32ec322a"
      },
      "source": [
        "print(len(dataset))"
      ],
      "execution_count": 8,
      "outputs": [
        {
          "output_type": "stream",
          "text": [
            "60000\n"
          ],
          "name": "stdout"
        }
      ]
    },
    {
      "cell_type": "code",
      "metadata": {
        "id": "gDONb7aes10m",
        "colab": {
          "base_uri": "https://localhost:8080/",
          "height": 1000
        },
        "outputId": "4704b78c-b2c1-41fc-b8b7-c4f508ce3463"
      },
      "source": [
        "# Show elements of dataset\n",
        "for i in range(10):\n",
        "  image, label = dataset[i]\n",
        "  plt.figure()\n",
        "  plt.imshow(image, cmap='gray')\n",
        "  print(label)"
      ],
      "execution_count": 9,
      "outputs": [
        {
          "output_type": "stream",
          "text": [
            "5\n",
            "0\n",
            "4\n",
            "1\n",
            "9\n",
            "2\n",
            "1\n",
            "3\n",
            "1\n",
            "4\n"
          ],
          "name": "stdout"
        },
        {
          "output_type": "display_data",
          "data": {
            "image/png": "[encoded data removed]",
            "text/plain": [
              "<Figure size 432x288 with 1 Axes>"
            ]
          },
          "metadata": {
            "tags": [],
            "needs_background": "light"
          }
        },
        {
          "output_type": "display_data",
          "data": {
            "image/png": "[encoded data removed]",
            "text/plain": [
              "<Figure size 432x288 with 1 Axes>"
            ]
          },
          "metadata": {
            "tags": [],
            "needs_background": "light"
          }
        },
        {
          "output_type": "display_data",
          "data": {
            "image/png": "[encoded data removed]",
            "text/plain": [
              "<Figure size 432x288 with 1 Axes>"
            ]
          },
          "metadata": {
            "tags": [],
            "needs_background": "light"
          }
        },
        {
          "output_type": "display_data",
          "data": {
            "image/png": "[encoded data removed]",
            "text/plain": [
              "<Figure size 432x288 with 1 Axes>"
            ]
          },
          "metadata": {
            "tags": [],
            "needs_background": "light"
          }
        },
        {
          "output_type": "display_data",
          "data": {
            "image/png": "[encoded data removed]",
            "text/plain": [
              "<Figure size 432x288 with 1 Axes>"
            ]
          },
          "metadata": {
            "tags": [],
            "needs_background": "light"
          }
        },
        {
          "output_type": "display_data",
          "data": {
            "image/png": "[encoded data removed]",
            "text/plain": [
              "<Figure size 432x288 with 1 Axes>"
            ]
          },
          "metadata": {
            "tags": [],
            "needs_background": "light"
          }
        },
        {
          "output_type": "display_data",
          "data": {
            "image/png": "[encoded data removed]",
            "text/plain": [
              "<Figure size 432x288 with 1 Axes>"
            ]
          },
          "metadata": {
            "tags": [],
            "needs_background": "light"
          }
        },
        {
          "output_type": "display_data",
          "data": {
            "image/png": "[encoded data removed]",
            "text/plain": [
              "<Figure size 432x288 with 1 Axes>"
            ]
          },
          "metadata": {
            "tags": [],
            "needs_background": "light"
          }
        },
        {
          "output_type": "display_data",
          "data": {
            "image/png": "[encoded data removed]",
            "text/plain": [
              "<Figure size 432x288 with 1 Axes>"
            ]
          },
          "metadata": {
            "tags": [],
            "needs_background": "light"
          }
        },
        {
          "output_type": "display_data",
          "data": {
            "image/png": "[encoded data removed]",
            "text/plain": [
              "<Figure size 432x288 with 1 Axes>"
            ]
          },
          "metadata": {
            "tags": [],
            "needs_background": "light"
          }
        }
      ]
    },
    {
      "cell_type": "markdown",
      "metadata": {
        "id": "6c5SXS8LnnBZ"
      },
      "source": [
        "For the needs of this assignment you will have to implement a similar Dataset class which will yield an image pair and a label equal to the mode 10 sum of the labels in the pair. "
      ]
    },
    {
      "cell_type": "markdown",
      "metadata": {
        "id": "_iW7KRp_nnBZ"
      },
      "source": [
        "### MnistPairs dataset"
      ]
    },
    {
      "cell_type": "markdown",
      "metadata": {
        "id": "GTSOcb63nnBZ"
      },
      "source": [
        "Implement the __getitem__ method in the dataset.py file. Build training and test sets with the 'right' and 'left' orders of the digits. Split the both training sets into training and validation sets with 90% and 10% of the data respectively. Concatenate the validation sets into one with both 'right' and 'test' orders. The same should be done with the test sets. Visualise some samples from the constructed datasets."
      ]
    },
    {
      "cell_type": "code",
      "metadata": {
        "id": "DoGwQZJnnnBa"
      },
      "source": [
        "from tati import MnistPairs"
      ],
      "execution_count": 10,
      "outputs": []
    },
    {
      "cell_type": "code",
      "metadata": {
        "id": "F0uHLWqJ5FTt"
      },
      "source": [
        "dsLeft = MnistPairs(root_dir, train=True, download=True, order='left')\n",
        "dsLeftTest = MnistPairs(root_dir, train=False, download=True, transform=True, order='left')\n",
        "dsRight = MnistPairs(root_dir, train=True, download=True)\n",
        "dsRightTest = MnistPairs(root_dir, train=False, download=True, transform=True)\n",
        "\n"
      ],
      "execution_count": 11,
      "outputs": []
    },
    {
      "cell_type": "code",
      "metadata": {
        "colab": {
          "base_uri": "https://localhost:8080/",
          "height": 233
        },
        "id": "mcSrxD5iOt31",
        "outputId": "237b1ebe-1c94-41e9-ab52-c66d66358849"
      },
      "source": [
        "image, label = dsLeft[1]\n",
        "plt.figure()\n",
        "plt.imshow(image, cmap='gray')\n",
        "print(label)"
      ],
      "execution_count": 12,
      "outputs": [
        {
          "output_type": "stream",
          "text": [
            "5\n"
          ],
          "name": "stdout"
        },
        {
          "output_type": "display_data",
          "data": {
            "image/png": "[encoded data removed]",
            "text/plain": [
              "<Figure size 432x288 with 1 Axes>"
            ]
          },
          "metadata": {
            "tags": [],
            "needs_background": "light"
          }
        }
      ]
    },
    {
      "cell_type": "code",
      "metadata": {
        "id": "wxpQsJmyLCF_"
      },
      "source": [
        "from torch.utils import data"
      ],
      "execution_count": 13,
      "outputs": []
    },
    {
      "cell_type": "code",
      "metadata": {
        "colab": {
          "base_uri": "https://localhost:8080/",
          "height": 235
        },
        "id": "cN-rnfoBLjbn",
        "outputId": "90425ce9-33c9-4159-ffc3-35812a49466e"
      },
      "source": [
        "lTrainLen = int(0.9 * int[len(dsLeft)])\n",
        "rTrainLen = int(0.9 * int[len(dsRight.len)])\n",
        "lValLen = dsLeft.len - lTrainLen\n",
        "rValLen = dsRight.len - rTrainLen\n",
        "\n",
        "dsLeftTrain, dsLeftVal = data.random_split(dsLeft, lengths=[lTrainLen, lValLen])\n",
        "dsRightTrain, dsRightVal = data.random_split(dsRight, lengths=[rTrainLen, rValLen])\n",
        "\n",
        "len(dsLeftTrain), len(dsLeftVal)\n",
        "\n",
        "concateVal = data.ConcatDataset(dsLeftVal, dsRightVal)\n",
        "concateTest = data.ConcatDataset(dsLeftTrain, dsRightTrain)"
      ],
      "execution_count": 16,
      "outputs": [
        {
          "output_type": "error",
          "ename": "AttributeError",
          "evalue": "ignored",
          "traceback": [
            "\u001b[0;31m---------------------------------------------------------------------------\u001b[0m",
            "\u001b[0;31mAttributeError\u001b[0m                            Traceback (most recent call last)",
            "\u001b[0;32m<ipython-input-16-92fdabe21e5c>\u001b[0m in \u001b[0;36m<module>\u001b[0;34m()\u001b[0m\n\u001b[0;32m----> 1\u001b[0;31m \u001b[0mlTrainLen\u001b[0m \u001b[0;34m=\u001b[0m \u001b[0mint\u001b[0m\u001b[0;34m(\u001b[0m\u001b[0;36m0.9\u001b[0m \u001b[0;34m*\u001b[0m \u001b[0mint\u001b[0m\u001b[0;34m[\u001b[0m\u001b[0mlen\u001b[0m\u001b[0;34m(\u001b[0m\u001b[0mdsLeft\u001b[0m\u001b[0;34m.\u001b[0m\u001b[0mLen\u001b[0m\u001b[0;34m)\u001b[0m\u001b[0;34m]\u001b[0m\u001b[0;34m)\u001b[0m\u001b[0;34m\u001b[0m\u001b[0;34m\u001b[0m\u001b[0m\n\u001b[0m\u001b[1;32m      2\u001b[0m \u001b[0mrTrainLen\u001b[0m \u001b[0;34m=\u001b[0m \u001b[0mint\u001b[0m\u001b[0;34m(\u001b[0m\u001b[0;36m0.9\u001b[0m \u001b[0;34m*\u001b[0m \u001b[0mint\u001b[0m\u001b[0;34m[\u001b[0m\u001b[0mlen\u001b[0m\u001b[0;34m(\u001b[0m\u001b[0mdsRight\u001b[0m\u001b[0;34m.\u001b[0m\u001b[0mlen\u001b[0m\u001b[0;34m)\u001b[0m\u001b[0;34m]\u001b[0m\u001b[0;34m)\u001b[0m\u001b[0;34m\u001b[0m\u001b[0;34m\u001b[0m\u001b[0m\n\u001b[1;32m      3\u001b[0m \u001b[0mlValLen\u001b[0m \u001b[0;34m=\u001b[0m \u001b[0mdsLeft\u001b[0m\u001b[0;34m.\u001b[0m\u001b[0mlen\u001b[0m \u001b[0;34m-\u001b[0m \u001b[0mlTrainLen\u001b[0m\u001b[0;34m\u001b[0m\u001b[0;34m\u001b[0m\u001b[0m\n\u001b[1;32m      4\u001b[0m \u001b[0mrValLen\u001b[0m \u001b[0;34m=\u001b[0m \u001b[0mdsRight\u001b[0m\u001b[0;34m.\u001b[0m\u001b[0mlen\u001b[0m \u001b[0;34m-\u001b[0m \u001b[0mrTrainLen\u001b[0m\u001b[0;34m\u001b[0m\u001b[0;34m\u001b[0m\u001b[0m\n\u001b[1;32m      5\u001b[0m \u001b[0;34m\u001b[0m\u001b[0m\n",
            "\u001b[0;31mAttributeError\u001b[0m: 'MnistPairs' object has no attribute 'Len'"
          ]
        }
      ]
    },
    {
      "cell_type": "code",
      "metadata": {
        "id": "FDFlD0hFLVsS"
      },
      "source": [
        "for i in range(10):\n",
        "  image, label = concateVal[i]\n",
        "  plt.figure()\n",
        "  plt.imshow(image, cmap='gray')\n",
        "\n",
        "for i in range(10):\n",
        "  image, label = concateTest[i]\n",
        "  plt.figure()\n",
        "  plt.imshow(image, cmap='gray')"
      ],
      "execution_count": null,
      "outputs": []
    },
    {
      "cell_type": "markdown",
      "metadata": {
        "id": "7tWmXTgunnBb"
      },
      "source": [
        "### Label and Pair Distribution"
      ]
    },
    {
      "cell_type": "markdown",
      "metadata": {
        "id": "KsWB16iYnnBb"
      },
      "source": [
        "Visualize the distribution of the labels and pairs in the training, validation and testing sets."
      ]
    },
    {
      "cell_type": "code",
      "metadata": {
        "id": "0pIE7EXGnnBb"
      },
      "source": [
        "def calculate_distribution_of_labels(dataset):\n",
        "  groups = {label: 0 for label in dataset}\n",
        "  for ndx in range(len(self.y_labels)):\n",
        "    groups[self.y_labels[ndx]] += 1\n",
        "\n",
        "  return groups\n",
        "\n",
        "print(\"Training set distribution: \" + calculate_distribution_of_labels(dsTrain))\n",
        "print(\"Valitaion set distribution: \" + calculate_distribution_of_labels(dsTVal))\n",
        "print(\"Test set distribution: \" + calculate_distribution_of_labels(dsTest))"
      ],
      "execution_count": null,
      "outputs": []
    },
    {
      "cell_type": "markdown",
      "metadata": {
        "id": "l-aMT1gNnnBb"
      },
      "source": [
        "If the distribution of the labels in the test set differs from the one in the training set, we should expect a different performance of the model on the test set."
      ]
    },
    {
      "cell_type": "markdown",
      "metadata": {
        "id": "U0XHCnqMnnBc"
      },
      "source": [
        "## Task 2. Design training settings"
      ]
    },
    {
      "cell_type": "markdown",
      "metadata": {
        "id": "3Q_bxML-nnBc"
      },
      "source": [
        "Having the MnistPairs dataset implemented, we can now nicely wrap in with a DataLoader class for the ease of training."
      ]
    },
    {
      "cell_type": "code",
      "metadata": {
        "id": "U9d-PYTNnnBc"
      },
      "source": [
        ""
      ],
      "execution_count": null,
      "outputs": []
    },
    {
      "cell_type": "markdown",
      "metadata": {
        "id": "WrHS8jkHnnBd"
      },
      "source": [
        "Define a bunch of models to test, the loss function and the optimizers."
      ]
    },
    {
      "cell_type": "code",
      "metadata": {
        "id": "sAMA5xBennBd"
      },
      "source": [
        ""
      ],
      "execution_count": null,
      "outputs": []
    },
    {
      "cell_type": "markdown",
      "metadata": {
        "id": "_4PkdDT4nnBd"
      },
      "source": [
        "Let us also define the metric we are going to use for the assesment of the model. We will simply use the accuracy of the model."
      ]
    },
    {
      "cell_type": "code",
      "metadata": {
        "id": "QWi9F69annBd"
      },
      "source": [
        "def accuracy(labels, predictions):\n",
        "    # Return the accuracy of predictions, i.e. the part of cases\n",
        "    # where the corresponding prediction matches the label.\n",
        "    pass"
      ],
      "execution_count": null,
      "outputs": []
    },
    {
      "cell_type": "markdown",
      "metadata": {
        "id": "R908hCJsnnBe"
      },
      "source": [
        "Write the training loop."
      ]
    },
    {
      "cell_type": "code",
      "metadata": {
        "id": "7m7_rG2cnnBe"
      },
      "source": [
        "def train_model(model, dataloader, optimizer, num_epochs):\n",
        "    pass"
      ],
      "execution_count": null,
      "outputs": []
    },
    {
      "cell_type": "markdown",
      "metadata": {
        "id": "WiplIgW2nnBe"
      },
      "source": [
        "Write the evaluation code."
      ]
    },
    {
      "cell_type": "code",
      "metadata": {
        "id": "1cassL5ynnBe"
      },
      "source": [
        "def evaluate_model(model, dataset_loader):\n",
        "    pass"
      ],
      "execution_count": null,
      "outputs": []
    },
    {
      "cell_type": "markdown",
      "metadata": {
        "id": "KSyTgoaUnnBf"
      },
      "source": [
        "## Task 3. Train on training 'right' set."
      ]
    },
    {
      "cell_type": "markdown",
      "metadata": {
        "id": "qkC1-hwHnnBf"
      },
      "source": [
        "Train the models on training 'right' set and select the best model on the validation set."
      ]
    },
    {
      "cell_type": "code",
      "metadata": {
        "id": "_-ZpyrHTnnBf"
      },
      "source": [
        ""
      ],
      "execution_count": null,
      "outputs": []
    },
    {
      "cell_type": "markdown",
      "metadata": {
        "id": "GeMw9jyDnnBf"
      },
      "source": [
        "## Task 4. Train on concatenated training set."
      ]
    },
    {
      "cell_type": "markdown",
      "metadata": {
        "id": "iLdmhwhTnnBg"
      },
      "source": [
        "Train the models on concatenated training set and select the best model on the validation set."
      ]
    },
    {
      "cell_type": "code",
      "metadata": {
        "id": "NijJmNF5nnBg"
      },
      "source": [
        ""
      ],
      "execution_count": null,
      "outputs": []
    },
    {
      "cell_type": "markdown",
      "metadata": {
        "id": "7qa4xeUknnBg"
      },
      "source": [
        "##  Task 5. Evaluation"
      ]
    },
    {
      "cell_type": "markdown",
      "metadata": {
        "id": "ozOsNu5CnnBg"
      },
      "source": [
        "From the previously selected models select the one that shows the best results on the validation set. Let's denote this as the best model. How can you explain the differences in the accuracies of the models trained on different training sets?\n"
      ]
    },
    {
      "cell_type": "code",
      "metadata": {
        "id": "Y7Od_o0LnnBh"
      },
      "source": [
        ""
      ],
      "execution_count": null,
      "outputs": []
    },
    {
      "cell_type": "markdown",
      "metadata": {
        "id": "07SwVxMCnnBi"
      },
      "source": [
        "Report the accuracy of the best model on the test set."
      ]
    },
    {
      "cell_type": "code",
      "metadata": {
        "id": "bjCBJ9plnnBi"
      },
      "source": [
        ""
      ],
      "execution_count": null,
      "outputs": []
    },
    {
      "cell_type": "markdown",
      "metadata": {
        "id": "zx_bQ910nnBi"
      },
      "source": [
        "## Task 6. Visualizations"
      ]
    },
    {
      "cell_type": "markdown",
      "metadata": {
        "id": "Wf4rSoE8nnBj"
      },
      "source": [
        "Visualize some examples of the best model's successful and failure predictions on the test set. Visualize the accuaracy depending on the digit pairs. Why is the model better or worse on some digits? "
      ]
    },
    {
      "cell_type": "code",
      "metadata": {
        "id": "PgEW4RzKnnBj"
      },
      "source": [
        ""
      ],
      "execution_count": null,
      "outputs": []
    }
  ]
}